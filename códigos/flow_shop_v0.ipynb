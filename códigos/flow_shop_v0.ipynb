{
 "cells": [
  {
   "cell_type": "markdown",
   "id": "a351ad2d-b7cb-46ae-a94d-9f28eafadf7b",
   "metadata": {},
   "source": [
    "### 2 máquinas + 2 jobs"
   ]
  },
  {
   "cell_type": "code",
   "execution_count": 131,
   "id": "bb40ad7d-0174-47fd-afb6-dfc4ff43209d",
   "metadata": {},
   "outputs": [
    {
     "name": "stdout",
     "output_type": "stream",
     "text": [
      "Makespan: 19\n"
     ]
    }
   ],
   "source": [
    "class Job:\n",
    "    def __init__(self, id, processing_time):\n",
    "        self.id = id\n",
    "        self.processing_time = processing_time\n",
    "\n",
    "class Machine:\n",
    "    def __init__(self, id):\n",
    "        self.id = id\n",
    "        self.jobs = []\n",
    "\n",
    "    def add_job(self, job):\n",
    "        self.jobs.append(job)\n",
    "\n",
    "class MakespanProblem:\n",
    "    def __init__(self, machines):\n",
    "        self.machines = machines\n",
    "\n",
    "    def calculate_makespan(self):\n",
    "        makespan = 0\n",
    "        machine1_time = 0\n",
    "        machine2_time = 0\n",
    "\n",
    "        for i in range(len(self.machines[0].jobs)):\n",
    "            machine1_time += self.machines[0].jobs[i].processing_time\n",
    "            machine2_time = max(machine2_time, machine1_time) + self.machines[1].jobs[i].processing_time\n",
    "            makespan = max(makespan, machine2_time)\n",
    "        return makespan\n",
    "\n",
    "# Exemplo de uso\n",
    "machine1 = Machine(1)\n",
    "machine1.add_job(Job(1, 10))\n",
    "machine1.add_job(Job(2, 8))\n",
    "\n",
    "machine2 = Machine(2)\n",
    "machine2.add_job(Job(3, 1))\n",
    "machine2.add_job(Job(4, 1))\n",
    "\n",
    "machines = [machine1, machine2]\n",
    "\n",
    "problem = MakespanProblem(machines)\n",
    "makespan = problem.calculate_makespan()\n",
    "\n",
    "print(\"Makespan:\", makespan)"
   ]
  },
  {
   "cell_type": "markdown",
   "id": "f75813d8-6a65-4af0-bfb8-692d6b7a2aa6",
   "metadata": {},
   "source": [
    "### 2 máquinas + 3 jobs"
   ]
  },
  {
   "cell_type": "markdown",
   "id": "cf974b49-d0f8-4c31-8f44-3c3b1566eeea",
   "metadata": {},
   "source": [
    "#### Só add 1 job em cada máquina"
   ]
  },
  {
   "cell_type": "code",
   "execution_count": 132,
   "id": "b554b1ad-6417-476a-b6a5-22b34b59ce5a",
   "metadata": {},
   "outputs": [
    {
     "name": "stdout",
     "output_type": "stream",
     "text": [
      "Makespan: 22\n"
     ]
    }
   ],
   "source": [
    "class Job:\n",
    "    def __init__(self, id, processing_time):\n",
    "        self.id = id\n",
    "        self.processing_time = processing_time\n",
    "\n",
    "class Machine:\n",
    "    def __init__(self, id):\n",
    "        self.id = id\n",
    "        self.jobs = []\n",
    "\n",
    "    def add_job(self, job):\n",
    "        self.jobs.append(job)\n",
    "\n",
    "class MakespanProblem:\n",
    "    def __init__(self, machines):\n",
    "        self.machines = machines\n",
    "\n",
    "    def calculate_makespan(self):\n",
    "        makespan = 0\n",
    "        machine1_time = 0\n",
    "        machine2_time = 0\n",
    "\n",
    "        for i in range(len(self.machines[0].jobs)):\n",
    "            machine1_time += self.machines[0].jobs[i].processing_time\n",
    "            machine2_time = max(machine2_time, machine1_time) + self.machines[1].jobs[i].processing_time\n",
    "            makespan = max(makespan, machine2_time)\n",
    "        return makespan\n",
    "\n",
    "# Exemplo de uso\n",
    "machine1 = Machine(1)\n",
    "machine1.add_job(Job(1, 10))\n",
    "machine1.add_job(Job(2, 8))\n",
    "machine1.add_job(Job(3, 1))\n",
    "\n",
    "machine2 = Machine(2)\n",
    "machine2.add_job(Job(4, 1))\n",
    "machine2.add_job(Job(5, 1))\n",
    "machine2.add_job(Job(6, 3))\n",
    "\n",
    "machines = [machine1, machine2]\n",
    "\n",
    "problem = MakespanProblem(machines)\n",
    "makespan = problem.calculate_makespan()\n",
    "\n",
    "print(\"Makespan:\", makespan)"
   ]
  },
  {
   "cell_type": "markdown",
   "id": "74cb874b-a980-486b-822b-d35ef5d2a9ec",
   "metadata": {},
   "source": [
    "### 3 máquinas + 3 jobs"
   ]
  },
  {
   "cell_type": "code",
   "execution_count": 136,
   "id": "d9f3bb26-d5a7-44f5-bd03-ccc1bc90d880",
   "metadata": {},
   "outputs": [
    {
     "name": "stdout",
     "output_type": "stream",
     "text": [
      "Makespan: 11\n"
     ]
    }
   ],
   "source": [
    "class Job:\n",
    "    def __init__(self, id, processing_time):\n",
    "        self.id = id\n",
    "        self.processing_time = processing_time\n",
    "\n",
    "class Machine:\n",
    "    def __init__(self, id):\n",
    "        self.id = id\n",
    "        self.jobs = []\n",
    "\n",
    "    def add_job(self, job):\n",
    "        self.jobs.append(job)\n",
    "\n",
    "class MakespanProblem:\n",
    "    def __init__(self, machines):\n",
    "        self.machines = machines\n",
    "\n",
    "    def calculate_makespan(self):\n",
    "        makespan = 0\n",
    "        machine1_time = 0\n",
    "        machine2_time = 0\n",
    "        machine3_time = 0\n",
    "\n",
    "        for i in range(len(self.machines[0].jobs)):\n",
    "            machine1_time += self.machines[0].jobs[i].processing_time\n",
    "            machine2_time = max(machine2_time, machine1_time) + self.machines[1].jobs[i].processing_time\n",
    "            machine3_time = max(machine3_time, machine2_time) + self.machines[2].jobs[i].processing_time\n",
    "            makespan = max(makespan, machine3_time)\n",
    "        return makespan\n",
    "\n",
    "\n",
    "# Exemplo de uso\n",
    "machine1 = Machine(1)\n",
    "machine1.add_job(Job(1, 2))\n",
    "machine1.add_job(Job(2, 1))\n",
    "machine1.add_job(Job(3, 3))\n",
    "\n",
    "machine2 = Machine(2)\n",
    "machine2.add_job(Job(4, 1))\n",
    "machine2.add_job(Job(5, 4))\n",
    "machine2.add_job(Job(6, 3))\n",
    "\n",
    "machine3 = Machine(3)\n",
    "machine3.add_job(Job(7, 2))\n",
    "machine3.add_job(Job(8, 1))\n",
    "machine3.add_job(Job(9, 1))\n",
    "\n",
    "machines = [machine1, machine2, machine3]\n",
    "\n",
    "problem = MakespanProblem(machines)\n",
    "makespan = problem.calculate_makespan()\n",
    "\n",
    "print(\"Makespan:\", makespan)"
   ]
  },
  {
   "cell_type": "code",
   "execution_count": null,
   "id": "443ba46d-f2ce-4ba7-85cf-7f5b3fbd7753",
   "metadata": {},
   "outputs": [],
   "source": []
  }
 ],
 "metadata": {
  "kernelspec": {
   "display_name": "Python 3 (ipykernel)",
   "language": "python",
   "name": "python3"
  },
  "language_info": {
   "codemirror_mode": {
    "name": "ipython",
    "version": 3
   },
   "file_extension": ".py",
   "mimetype": "text/x-python",
   "name": "python",
   "nbconvert_exporter": "python",
   "pygments_lexer": "ipython3",
   "version": "3.9.12"
  }
 },
 "nbformat": 4,
 "nbformat_minor": 5
}
